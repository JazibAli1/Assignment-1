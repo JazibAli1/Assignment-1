{
 "cells": [
  {
   "cell_type": "markdown",
   "metadata": {},
   "source": [
    "# QUESTION NO:1"
   ]
  },
  {
   "cell_type": "code",
   "execution_count": 11,
   "metadata": {},
   "outputs": [
    {
     "name": "stdout",
     "output_type": "stream",
     "text": [
      "FRIEND_1\n",
      "personal_information\n",
      "NAME:asad\n",
      "CNIC:289865\n",
      "HOBBIES:CRICKET\n",
      "\n",
      "\n",
      "FRIEND_2\n",
      "personal_information\n",
      "NAME:SARIM\n",
      "CNIC:189886\n",
      "HOBBIES:HOCKEY\n",
      "\n",
      "\n",
      "FRIEND_3\n",
      "personal_information\n",
      "NAME:DANIYAL\n",
      "CNIC:566875367\n",
      "HOBBIES:VOLLEY BALL\n",
      "\n",
      "\n"
     ]
    }
   ],
   "source": [
    "class intro:\n",
    "    def __init__(self):\n",
    "        pass\n",
    "    def personal_information(self, name, cnic):\n",
    "        return (f\"NAME:{name}\\nCNIC:{cnic}\")\n",
    "    def hobbies(self, hobby):\n",
    "        return (f\"HOBBIES:{hobby}\")\n",
    "frnd_1=intro()\n",
    "print(\"FRIEND_1\")\n",
    "print(\"personal_information\")\n",
    "print(frnd_1.personal_information(\"asad\",\"289865\"))\n",
    "print(frnd_1.hobbies(\"CRICKET\"))\n",
    "print(\"\\n\")\n",
    "\n",
    "frnd_2=intro()\n",
    "print(\"FRIEND_2\")\n",
    "print(\"personal_information\")\n",
    "print(frnd_2.personal_information(\"SARIM\",\"189886\"))\n",
    "print(frnd_2.hobbies(\"HOCKEY\"))\n",
    "print(\"\\n\")\n",
    "\n",
    "frnd_3=intro()\n",
    "print(\"FRIEND_3\")\n",
    "print(\"personal_information\")\n",
    "print(frnd_3.personal_information(\"DANIYAL\",\"566875367\"))\n",
    "print(frnd_3.hobbies(\"VOLLEY BALL\"))\n",
    "print(\"\\n\")"
   ]
  },
  {
   "cell_type": "markdown",
   "metadata": {},
   "source": [
    "# QUESTION NO:2"
   ]
  },
  {
   "cell_type": "code",
   "execution_count": 10,
   "metadata": {},
   "outputs": [
    {
     "name": "stdout",
     "output_type": "stream",
     "text": [
      "FRIEND_1\n",
      "Best Soup : chicken soup, corn soup\n",
      "Different types of salads : caesar salad, dessert salad\n",
      "Different types of juice : mango, apple\n",
      "TYPE : pastry, cookies\n",
      "course Meals : appetizer\n",
      "\n",
      "\n",
      "FRIEND_2\n",
      "Best Soup : california italian soup\n",
      "Different types of salads : greek salad, fruit salad\n",
      "Different types of juice : banana, pineapple \n",
      "TYPE : custards, chocolate\n",
      "course Meals : salad, fish\n",
      "\n",
      "\n",
      "FRIEND_3\n",
      "Best Soup : healthy soup, carrot soup\n",
      "Different types of salads : bound salad, potato salad\n",
      "Different types of juice : heaithy juice, Pomegranate juice\n",
      "TYPE : ice cream, brownies\n",
      "course Meals : Soup\n"
     ]
    }
   ],
   "source": [
    "class dishes:\n",
    "    def __init__(self):\n",
    "        pass\n",
    "    def soup(self,type):\n",
    "        return (f\"Best Soup : {type}\")\n",
    "    def salad(self,type):\n",
    "        return (f\"Different types of salads : {type}\")\n",
    "    def juice(self, fruit):\n",
    "        return (f\"Different types of juice : {fruit}\")\n",
    "    def dessert(self, type):\n",
    "        return (f\"TYPE : {type}\")\n",
    "    def course(self, meals):\n",
    "        return (f\"course Meals : {meals}\")\n",
    "        \n",
    "    \n",
    "frnd_1=dishes()\n",
    "print(\"FRIEND_1\")\n",
    "print(frnd_1.soup(\"chicken soup, corn soup\"))\n",
    "print(frnd_1.salad(\"caesar salad, dessert salad\"))\n",
    "print(frnd_1.juice(\"mango, apple\"))\n",
    "print(frnd_1.dessert(\"pastry, cookies\"))\n",
    "print(frnd_1.course(\"appetizer\"))\n",
    "print(\"\\n\")\n",
    "\n",
    "frnd_2=dishes()\n",
    "print(\"FRIEND_2\")\n",
    "print(frnd_2.soup(\"california italian soup\"))\n",
    "print(frnd_2.salad(\"greek salad, fruit salad\"))\n",
    "print(frnd_2.juice(\"banana, pineapple \"))\n",
    "print(frnd_2.dessert(\"custards, chocolate\"))\n",
    "print(frnd_1.course(\"salad, fish\"))\n",
    "print(\"\\n\")\n",
    "\n",
    "frnd_3=dishes()\n",
    "print(\"FRIEND_3\")\n",
    "print(frnd_3.soup(\"healthy soup, carrot soup\"))\n",
    "print(frnd_3.salad(\"bound salad, potato salad\"))\n",
    "print(frnd_3.juice(\"heaithy juice, Pomegranate juice\"))\n",
    "print(frnd_3.dessert(\"ice cream, brownies\"))\n",
    "print(frnd_1.course(\"Soup\"))"
   ]
  },
  {
   "cell_type": "code",
   "execution_count": null,
   "metadata": {},
   "outputs": [],
   "source": []
  }
 ],
 "metadata": {
  "kernelspec": {
   "display_name": "Python 3",
   "language": "python",
   "name": "python3"
  },
  "language_info": {
   "codemirror_mode": {
    "name": "ipython",
    "version": 3
   },
   "file_extension": ".py",
   "mimetype": "text/x-python",
   "name": "python",
   "nbconvert_exporter": "python",
   "pygments_lexer": "ipython3",
   "version": "3.7.4"
  }
 },
 "nbformat": 4,
 "nbformat_minor": 2
}
